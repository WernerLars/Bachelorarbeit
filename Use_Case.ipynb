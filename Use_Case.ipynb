{
 "cells": [
  {
   "cell_type": "markdown",
   "metadata": {},
   "source": [
    "# Use Case Notebook by Lars Werner (3066030)\n",
    "\n",
    "### This Use Case Notebook is an example, how you can load Recordings without Ground Truth in EDF Format into Spikeinterface with MNE and for comparing the results with metrics. You will need a EDF Recording with an Probe File for the locations of the electrodes. If your Recording has other formats, you will need to look up if SpikeInterface or MNE does support your format. If not, you will need to find a different library, that supports your format."
   ]
  },
  {
   "cell_type": "code",
   "execution_count": null,
   "metadata": {},
   "outputs": [],
   "source": [
    "import mne\n",
    "import spikeinterface.extractors as se\n",
    "import spikeinterface.toolkit as st\n",
    "import spikeinterface.sorters as ss\n",
    "import spikeinterface.comparison as sc\n",
    "import spikeinterface.widgets as sw\n",
    "import SpikeSortingPipeline as ssp\n",
    "import numpy as np\n",
    "%matplotlib notebook"
   ]
  },
  {
   "cell_type": "markdown",
   "metadata": {},
   "source": [
    "### Loading EDF File and convert it into numpy array"
   ]
  },
  {
   "cell_type": "code",
   "execution_count": null,
   "metadata": {
    "scrolled": false
   },
   "outputs": [],
   "source": [
    "file_path = \"data/NP_2010.02.12_10.edf\"\n",
    "\n",
    "edf_raw = mne.io.read_raw_edf(file_path, preload=True)\n",
    "hz = 1 / (edf_raw.times[1] - edf_raw.times[0])\n",
    "edf_data, times = edf_raw[:, :]\n",
    "\n",
    "print(type(edf_raw))\n",
    "print(hz)\n",
    "print(type(edf_data))\n",
    "print(edf_data)\n",
    "print(np.shape(edf_data))"
   ]
  },
  {
   "cell_type": "markdown",
   "metadata": {},
   "source": [
    "### Loading numpy Array into SpikeInterface with NumpyRecordingExtractor, loading the probe file, adding the recording to an RecordingList and printing some data."
   ]
  },
  {
   "cell_type": "code",
   "execution_count": null,
   "metadata": {},
   "outputs": [],
   "source": [
    "recording = se.NumpyRecordingExtractor(timeseries=edf_data, sampling_frequency=hz)\n",
    "recording = recording.load_probe_file(\"data/probe.prb\")\n",
    "recordings = ssp.createRecordingList()\n",
    "recordings = ssp.addRecording(recordings, recording, \"\", \"Own Data\")\n",
    "print(recordings, \"\\n\")\n",
    "ssp.printRecordingData(recordings)"
   ]
  },
  {
   "cell_type": "markdown",
   "metadata": {},
   "source": [
    "### This is for printing the traces of the recording and to check if the recording has Nan values"
   ]
  },
  {
   "cell_type": "code",
   "execution_count": null,
   "metadata": {},
   "outputs": [],
   "source": [
    "data = recordings[0][1].get_traces()\n",
    "print(recording.get_shared_channel_property_names())\n",
    "print(type(data))\n",
    "print(data)\n",
    "\n",
    "array_sum = np.sum(data)\n",
    "print(\"Has Nan Value: \", np.isnan(array_sum))"
   ]
  },
  {
   "cell_type": "markdown",
   "metadata": {},
   "source": [
    "\n",
    "### We dont have any Ground Truth Data, so we can only use the Print Functions, that only uses the RecordingExtractor.\n"
   ]
  },
  {
   "cell_type": "code",
   "execution_count": null,
   "metadata": {},
   "outputs": [],
   "source": [
    "ssp.printTimeseries(recordings)\n",
    "ssp.printElectrodeGeometry(recordings)"
   ]
  },
  {
   "cell_type": "markdown",
   "metadata": {},
   "source": [
    "### You can try running my RunSpikeSorting Method, but if it fails you will need to exlucde some installed sorters. Therefore you can use the code below. You can exlude Sorters by slicing the sorter_list."
   ]
  },
  {
   "cell_type": "code",
   "execution_count": null,
   "metadata": {
    "scrolled": false
   },
   "outputs": [],
   "source": [
    "spike_sorting = ss.run_sorters(sorter_list = ss.installed_sorters()[1:2] + ss.installed_sorters()[3:], \n",
    "                                recording_dict_or_list = [recordings[0][1]], \n",
    "                                working_folder='working_folder_use_case',\n",
    "                                mode='overwrite'\n",
    "                               )"
   ]
  },
  {
   "cell_type": "markdown",
   "metadata": {},
   "source": [
    "### Loads your working folder where your sorting results are saved. You dont need to run SpikeSorting every time."
   ]
  },
  {
   "cell_type": "code",
   "execution_count": null,
   "metadata": {},
   "outputs": [],
   "source": [
    "spike_sorting = ss.collect_sorting_outputs(\"working_folder_use_case\")"
   ]
  },
  {
   "cell_type": "markdown",
   "metadata": {},
   "source": [
    "### Creating and printing the SorterList"
   ]
  },
  {
   "cell_type": "code",
   "execution_count": null,
   "metadata": {},
   "outputs": [],
   "source": [
    "sorter_list = ssp.createSorterList(recordings,spike_sorting)\n",
    "ssp.printSorterList(sorter_list)"
   ]
  },
  {
   "cell_type": "markdown",
   "metadata": {},
   "source": [
    "### Because we don't have any Ground Truth Data, we can't use the CompareWithGroundTruth or PrintPerformance Functions. So we need to use quality metrics or the compareSorters functions to evaluate the performance of the recordings. SpikeInterface can compute some quality metrics and the code below shows you, how you can let them get computed."
   ]
  },
  {
   "cell_type": "code",
   "execution_count": null,
   "metadata": {
    "scrolled": false
   },
   "outputs": [],
   "source": [
    "for sorter in sorter_list[0][1]:\n",
    "    \n",
    "    metrics = st.validation.compute_quality_metrics(sorting=sorter[1], recording=sorter_list[0][0][1],\n",
    "                                                metric_names=['num_spikes', \n",
    "                                                              'firing_rate',\n",
    "                                                              'presence_ratio',\n",
    "                                                              'isi_violation',\n",
    "                                                              'amplitude_cutoff',\n",
    "                                                              'snr',\n",
    "                                                              'max_drift', \n",
    "                                                              'cumulative_drift', \n",
    "                                                              'silhouette_score',\n",
    "                                                              #'isolation_distance',\n",
    "                                                              #'l_ratio', \n",
    "                                                              #'d_prime',\n",
    "                                                              #'noise_overlap',\n",
    "                                                              #'nn_hit_rate', \n",
    "                                                              #'nn_miss_rate'\n",
    "                                                                ], \n",
    "                                                              as_dataframe=True)\n",
    "    print(\"Metrics from:\", sorter[0])\n",
    "    print(type(metrics))\n",
    "    print(metrics)"
   ]
  },
  {
   "cell_type": "markdown",
   "metadata": {},
   "source": [
    "### This is for comparing the sorter results with each other"
   ]
  },
  {
   "cell_type": "code",
   "execution_count": null,
   "metadata": {
    "scrolled": false
   },
   "outputs": [],
   "source": [
    "ssp.compareSorters(sorter_list[0])"
   ]
  },
  {
   "cell_type": "code",
   "execution_count": null,
   "metadata": {},
   "outputs": [],
   "source": []
  }
 ],
 "metadata": {
  "kernelspec": {
   "display_name": "Python 3",
   "language": "python",
   "name": "python3"
  },
  "language_info": {
   "codemirror_mode": {
    "name": "ipython",
    "version": 3
   },
   "file_extension": ".py",
   "mimetype": "text/x-python",
   "name": "python",
   "nbconvert_exporter": "python",
   "pygments_lexer": "ipython3",
   "version": "3.8.6"
  }
 },
 "nbformat": 4,
 "nbformat_minor": 4
}
